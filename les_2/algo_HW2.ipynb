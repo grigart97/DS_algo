{
 "cells": [
  {
   "cell_type": "markdown",
   "id": "7a4dc6ce",
   "metadata": {},
   "source": [
    "# Домашнее задание 2"
   ]
  },
  {
   "cell_type": "code",
   "execution_count": 1,
   "id": "2bf46c23",
   "metadata": {},
   "outputs": [],
   "source": [
    "import numpy as np\n",
    "from sklearn import datasets\n",
    "import matplotlib.pyplot as plt\n",
    "np.random.seed(42)"
   ]
  },
  {
   "cell_type": "markdown",
   "id": "531f8d82",
   "metadata": {
    "id": "osNM_LLkiqu6"
   },
   "source": [
    "1. Сгенерировать датасет при помощи `sklearn.datasets.make_regression` и обучить линейную модель при помощи градиентного и стохастического градиентного спуска. Нанести среднеквадратичную ошибку для обоих методов на один график, сделать выводы о разнице скорости сходимости каждого из методов."
   ]
  },
  {
   "cell_type": "code",
   "execution_count": 2,
   "id": "89cfedbe",
   "metadata": {
    "scrolled": false
   },
   "outputs": [
    {
     "data": {
      "text/plain": [
       "(array([[ 1.3607783 ,  0.71525692,  0.85783197],\n",
       "        [ 0.37775917, -0.29667201, -0.06182994],\n",
       "        [-0.88654363, -0.24719785,  1.11096608],\n",
       "        ...,\n",
       "        [ 0.4138366 ,  0.8892254 ,  0.33102454],\n",
       "        [ 0.68375954, -0.05269702,  0.46880535],\n",
       "        [ 0.58324503, -2.42122021,  0.06580707]]),\n",
       " array([146.34159015,  28.56559203, -67.54856777, ...,  55.94156301,\n",
       "         67.6975316 ,  16.03126635]),\n",
       " array([90.18332957, 15.50017954, 14.61295732]))"
      ]
     },
     "execution_count": 2,
     "metadata": {},
     "output_type": "execute_result"
    }
   ],
   "source": [
    "data, target, coefs = datasets.make_regression(n_samples = 10000, n_features = 3, n_informative = 10,\n",
    "                                                      coef = True, random_state = 2)\n",
    "data, target,coefs"
   ]
  },
  {
   "cell_type": "code",
   "execution_count": 3,
   "id": "08eae988",
   "metadata": {},
   "outputs": [],
   "source": [
    "def calc_mse(y_pred, y):\n",
    "    return np.mean((y - y_pred) ** 2)"
   ]
  },
  {
   "cell_type": "code",
   "execution_count": 4,
   "id": "10d709d7",
   "metadata": {},
   "outputs": [],
   "source": [
    "def classic_grad_fit_reg(X, y, alpha=1e-3, target_diff=1e-5, iterations=None):\n",
    "    '''\n",
    "    Метод классического градиентного спуска.\n",
    "    Рализовал двумя способами\n",
    "    1. При задании количества итерации. Функция не закончится, пока не выполненит заданное количество итераций\n",
    "    2. При отсутсвии заданного количества итераций. Функция не закончится, пока не достигнет заданного изменения mse\n",
    "    '''\n",
    "    \n",
    "    W = np.zeros(X.shape[1])\n",
    "    W_list = [W.copy()]\n",
    "    mse = calc_mse(np.dot(X, W), y)\n",
    "    mse_list = []\n",
    "    if iterations != None:\n",
    "        for i in range(iterations):\n",
    "            mse_list.append(mse)\n",
    "            W -= alpha * 2 * np.dot((np.dot(X, W) - y), X) / X.shape[0]\n",
    "            W_list.append(W)\n",
    "            mse = calc_mse(np.dot(X, W), y)\n",
    "            if i % (iterations / 5) == 0:\n",
    "                print(i, W, mse)\n",
    "    else:\n",
    "        diff = np.inf\n",
    "        while target_diff < diff:\n",
    "            W -= alpha * 2 / X.shape[0] * np.dot((np.dot(X, W) - y), X)\n",
    "            W_list.append(W)\n",
    "            new_mse = calc_mse(np.dot(X, W), y)\n",
    "            mse_list.append(new_mse)\n",
    "            diff = mse - new_mse\n",
    "#             print(W, new_mse, diff)\n",
    "            mse = new_mse\n",
    "    return W, W_list, mse_list"
   ]
  },
  {
   "cell_type": "code",
   "execution_count": 5,
   "id": "cbd5581e",
   "metadata": {},
   "outputs": [],
   "source": [
    "def stochastic_grad_fit_reg(X, y, qty_in_batch=None, alpha=1e-3, iterations=None):\n",
    "    '''\n",
    "    Вариант Стахостического градиентного спуска, который предоставлен предподавателем\n",
    "    '''\n",
    "    n = X.shape[1]\n",
    "    if qty_in_batch == None:\n",
    "        qty_in_batch = n\n",
    "    n_batch = np.math.ceil(n / qty_in_batch)\n",
    "    W = np.zeros(n)\n",
    "    W_list = []\n",
    "    mse_list = []\n",
    "    train_ind = np.random.randint(X.shape[0])\n",
    "    for i in range(iterations):\n",
    "        W_list.append(W)\n",
    "        y_pred = np.dot(X, W)\n",
    "        mse = calc_mse(y_pred, y)\n",
    "        mse_list.append(mse)\n",
    "        for ii in range(n_batch):\n",
    "            batch_start = ii * qty_in_batch\n",
    "            batch_end = (ii + 1) * qty_in_batch\n",
    "            \n",
    "            X_tmp = X[batch_start:batch_end, :]\n",
    "            y_tmp = y[batch_start:batch_end]\n",
    "            \n",
    "            W -= alpha * 2 * np.dot((np.dot(X_tmp, W) - y_tmp), X_tmp) / n\n",
    "        if i % (iterations / 5) == 0:\n",
    "            print(i, '\\t', W, mse)\n",
    "    return W, W_list, mse_list"
   ]
  },
  {
   "cell_type": "code",
   "execution_count": 6,
   "id": "3967bf33",
   "metadata": {},
   "outputs": [],
   "source": [
    "def stochastic_grad_fit_reg2(X, y, qty_in_batch=None, alpha=1e-3, iterations=None):\n",
    "    '''\n",
    "    Вариант Стахостического градиентного спуска, который совмещает вариант из методички к уроку\n",
    "    и вариант, предоставленный преподавателем.\n",
    "    '''\n",
    "    n = X.shape[1]\n",
    "    if qty_in_batch == None:\n",
    "        qty_in_batch = n\n",
    "    W = np.zeros(n)\n",
    "    W_list = []\n",
    "    mse_list = []\n",
    "    train_ind = np.random.randint(X.shape[0])\n",
    "    for i in range(iterations):\n",
    "        W_list.append(W)\n",
    "        y_pred = np.dot(X, W)\n",
    "        mse = calc_mse(y_pred, y)\n",
    "        mse_list.append(mse)\n",
    "        train_ind = np.random.randint(low=0, high=X.shape[0])\n",
    "        batch_start = train_ind * qty_in_batch\n",
    "        batch_end = (train_ind + 1) * qty_in_batch\n",
    "\n",
    "        X_tmp = X[batch_start:batch_end, :]\n",
    "        y_tmp = y[batch_start:batch_end]\n",
    "\n",
    "        W -= alpha * 2 * np.dot((np.dot(X_tmp, W) - y_tmp), X_tmp) / n\n",
    "        if i % (iterations / 5) == 0:\n",
    "            print(i, '\\t', W, mse)\n",
    "    return W, W_list, mse_list"
   ]
  },
  {
   "cell_type": "code",
   "execution_count": 7,
   "id": "4652eeec",
   "metadata": {},
   "outputs": [],
   "source": [
    "def stochastic_grad_fit_reg3(X, y, qty_in_batch=None, alpha=1e-3, iterations=None):\n",
    "    '''\n",
    "    Вариант стахостического градиентного спуска из методички к уроку\n",
    "    '''\n",
    "    n = X.shape[1]\n",
    "    if qty_in_batch == None:\n",
    "        qty_in_batch = n\n",
    "    W = np.zeros(n)\n",
    "    W_list = []\n",
    "    mse_list = []\n",
    "    train_ind = np.random.randint(X.shape[0])\n",
    "    for i in range(iterations):\n",
    "        W_list.append(W)\n",
    "        y_pred = np.dot(X, W)\n",
    "        mse = calc_mse(y_pred, y)\n",
    "        mse_list.append(mse)\n",
    "        train_ind = np.random.randint(X.shape[0])\n",
    "\n",
    "        X_tmp = X[train_ind, :]\n",
    "        y_tmp = y[train_ind]\n",
    "\n",
    "        W -= alpha * 2 * np.dot((np.dot(X_tmp, W) - y_tmp), X_tmp) / n\n",
    "        if i % (iterations / 5) == 0:\n",
    "            print(i, '\\t', W, mse)\n",
    "    return W, W_list, mse_list"
   ]
  },
  {
   "cell_type": "code",
   "execution_count": 8,
   "id": "edaee7ea",
   "metadata": {},
   "outputs": [],
   "source": [
    "iterations = 100"
   ]
  },
  {
   "cell_type": "code",
   "execution_count": 9,
   "id": "a9e58fa0",
   "metadata": {
    "scrolled": true
   },
   "outputs": [
    {
     "name": "stdout",
     "output_type": "stream",
     "text": [
      "0 [18.31998948  3.32672741  2.89304628] 5540.456898136405\n",
      "20 [89.41624335 15.4105859  14.46995147] 0.626375683390612\n",
      "40 [90.17511345 15.49970268 14.61119482] 7.181190074223112e-05\n",
      "60 [90.18324123 15.50018018 14.61293544] 8.380876857408824e-09\n",
      "80 [90.18332861 15.50017961 14.61295705] 9.99777729149775e-13\n"
     ]
    }
   ],
   "source": [
    "W, W_list, mse_list = classic_grad_fit_reg(data, target, \n",
    "                                           alpha=0.1, \n",
    "                                           iterations=iterations\n",
    "                                          )"
   ]
  },
  {
   "cell_type": "code",
   "execution_count": 10,
   "id": "3669c6f2",
   "metadata": {},
   "outputs": [
    {
     "name": "stdout",
     "output_type": "stream",
     "text": [
      "0 \t [17.98760845  7.52633893  3.24840785] 8729.992415032719\n",
      "20 \t [83.39473404 30.79580697 12.41691864] 289.32367510073743\n",
      "40 \t [85.18358375 27.86655699 12.63213951] 184.49148748370018\n",
      "60 \t [86.19307909 25.3880839  13.01075835] 117.94312677742694\n",
      "80 \t [86.99313807 23.40627416 13.33071107] 75.40367835568009\n"
     ]
    }
   ],
   "source": [
    "W_s, W_list_s, mse_list_s = stochastic_grad_fit_reg(data, target, \n",
    "                                                    alpha=0.1, \n",
    "                                                    qty_in_batch=3,\n",
    "                                                    iterations=iterations\n",
    "                                                   )"
   ]
  },
  {
   "cell_type": "code",
   "execution_count": 11,
   "id": "99c85e2b",
   "metadata": {},
   "outputs": [
    {
     "name": "stdout",
     "output_type": "stream",
     "text": [
      "0 \t [0. 0. 0.] 8729.992415032719\n",
      "20 \t [52.1122693  10.02009598  2.87045742] 1641.1675624332922\n",
      "40 \t [86.00026522 17.41863831 10.36714567] 38.99429221176052\n",
      "60 \t [89.4504698  16.42540197 14.54150566] 1.39180532320827\n",
      "80 \t [89.98559899 15.63746158 14.53306001] 0.06393794839922234\n"
     ]
    }
   ],
   "source": [
    "W_s2, W_list_s2, mse_list_s2 = stochastic_grad_fit_reg2(data, target, \n",
    "                                                        alpha=0.1,\n",
    "                                                        qty_in_batch=3,\n",
    "                                                        iterations=iterations\n",
    "                                                   )"
   ]
  },
  {
   "cell_type": "code",
   "execution_count": 12,
   "id": "d936ce49",
   "metadata": {},
   "outputs": [
    {
     "name": "stdout",
     "output_type": "stream",
     "text": [
      "0 \t [ 6.66172116  1.25302954 -2.91005106] 8729.992415032719\n",
      "20 \t [71.79316728  6.92524707 18.76888644] 449.05885259846707\n",
      "40 \t [86.62985164 14.44476921 18.10243974] 29.802952632451255\n",
      "60 \t [88.62657496 15.42382835 16.01513182] 4.956621809804728\n",
      "80 \t [89.56050077 15.39673449 15.18252741] 0.9491177660705653\n"
     ]
    }
   ],
   "source": [
    "W_s3, W_list_s3, mse_list_s3 = stochastic_grad_fit_reg3(data, target, \n",
    "                                                        alpha=0.1, \n",
    "                                                        qty_in_batch=3,\n",
    "                                                        iterations=iterations\n",
    "                                                   )"
   ]
  },
  {
   "cell_type": "code",
   "execution_count": 13,
   "id": "891783eb",
   "metadata": {},
   "outputs": [
    {
     "data": {
      "image/png": "[encoded data removed]",
      "text/plain": [
       "<Figure size 864x432 with 1 Axes>"
      ]
     },
     "metadata": {
      "needs_background": "light"
     },
     "output_type": "display_data"
    }
   ],
   "source": [
    "plt.figure(figsize = (12, 6))\n",
    "plt.scatter(range(iterations), mse_list, label='Классический градиентный спуск')\n",
    "plt.scatter(range(iterations), mse_list_s, label='Стахостический градиентный спуск (1 вариант)')\n",
    "plt.scatter(range(iterations), mse_list_s2, label='Стахостический градиентный спуск (2 вариант)')\n",
    "plt.scatter(range(iterations), mse_list_s3, label='Стахостический градиентный спуск (3 вариант)')\n",
    "plt.legend()\n",
    "plt.show()"
   ]
  },
  {
   "cell_type": "markdown",
   "id": "958d5322",
   "metadata": {},
   "source": [
    "## Вывод:\n",
    "Для данного примера **классический** градиентный спуск является более оптимальным вариантом решения"
   ]
  },
  {
   "cell_type": "markdown",
   "id": "2f235e4e",
   "metadata": {},
   "source": [
    "### Попробуем реализовать решение классическим градиентным спуском с нормализацией и стандартизацией"
   ]
  },
  {
   "cell_type": "code",
   "execution_count": 14,
   "id": "c54f98e9",
   "metadata": {},
   "outputs": [],
   "source": [
    "def calc_mean_feat(x):\n",
    "    return (x - x.min()) / (x.max() - x.min())\n",
    "\n",
    "def my_MinMaxScaler(X):\n",
    "    return np.array([X[:, i] if (X[:, i] == X[0, i]).all() else calc_mean_feat(X[:, i]) for i in range(X.shape[1])]).T\n",
    "\n",
    "def calc_std_feat(x):\n",
    "    return (x - x.mean()) / x.std()\n",
    "\n",
    "def my_StandartScaler(X):\n",
    "    return np.array([X[:, i] if (X[:, i] == X[0, i]).all() else calc_std_feat(X[:, i]) for i in range(X.shape[1])]).T"
   ]
  },
  {
   "cell_type": "code",
   "execution_count": 15,
   "id": "ad6841a0",
   "metadata": {},
   "outputs": [],
   "source": [
    "data_norm = my_MinMaxScaler(data)\n",
    "data_std = my_StandartScaler(data)"
   ]
  },
  {
   "cell_type": "code",
   "execution_count": 16,
   "id": "31dac272",
   "metadata": {},
   "outputs": [
    {
     "data": {
      "image/png": "[encoded data removed]",
      "text/plain": [
       "<Figure size 1296x1296 with 9 Axes>"
      ]
     },
     "metadata": {
      "needs_background": "light"
     },
     "output_type": "display_data"
    }
   ],
   "source": [
    "fig, axs = plt.subplots(data.shape[1], 3, figsize=(18, 18))\n",
    "for i in range(data.shape[1]):\n",
    "    axs[i, 0].hist(data[:, i], color='black')\n",
    "    axs[i, 1].hist(data_std[:, i], color='red')\n",
    "    axs[i, 2].hist(data_norm[:, i], color='orange')\n",
    "plt.show()"
   ]
  },
  {
   "cell_type": "code",
   "execution_count": 17,
   "id": "1d118ed6",
   "metadata": {},
   "outputs": [
    {
     "name": "stdout",
     "output_type": "stream",
     "text": [
      "0 [2.42327296 0.47601094 0.42460732] 8670.079357233384\n",
      "20 [32.59218885 -5.48077904 -6.45088266] 8137.479128446086\n",
      "40 [ 54.58727032 -16.71312817 -18.47846535] 7760.592643298057\n",
      "60 [ 74.85879226 -27.48511161 -29.95048235] 7431.735728652808\n",
      "80 [ 93.78761798 -37.58164665 -40.66157333] 7144.628855474712\n"
     ]
    }
   ],
   "source": [
    "W_norm, W_list_norm, mse_list_norm = classic_grad_fit_reg(data_norm, target, \n",
    "                                           alpha=0.1, \n",
    "                                           iterations=iterations\n",
    "                                          )"
   ]
  },
  {
   "cell_type": "code",
   "execution_count": 18,
   "id": "f8444d2a",
   "metadata": {
    "scrolled": true
   },
   "outputs": [
    {
     "name": "stdout",
     "output_type": "stream",
     "text": [
      "0 [18.18447355  3.32617381  2.88278084] 5580.464947979207\n",
      "20 [90.01465157 15.42232758 14.5170629 ] 1.0057097536973456\n",
      "40 [90.84099595 15.51027016 14.66475673] 0.27622865847947414\n",
      "60 [90.85053654 15.51067632 14.66666289] 0.2761317114679567\n",
      "80 [90.85064711 15.51067378 14.66668778] 0.2761316983499421\n"
     ]
    }
   ],
   "source": [
    "W_std, W_list_std, mse_list_std = classic_grad_fit_reg(data_std, target, \n",
    "                                           alpha=0.1, \n",
    "                                           iterations=iterations\n",
    "                                          )"
   ]
  },
  {
   "cell_type": "code",
   "execution_count": 19,
   "id": "88e85237",
   "metadata": {},
   "outputs": [
    {
     "data": {
      "image/png": "[encoded data removed]",
      "text/plain": [
       "<Figure size 432x432 with 1 Axes>"
      ]
     },
     "metadata": {
      "needs_background": "light"
     },
     "output_type": "display_data"
    }
   ],
   "source": [
    "plt.figure(figsize = (6, 6))\n",
    "plt.scatter(range(iterations), mse_list, label='Исходные значения')\n",
    "plt.scatter(range(iterations), mse_list_norm, label='Нормализация')\n",
    "plt.scatter(range(iterations), mse_list_std, label='Стандартизация')\n",
    "plt.legend()\n",
    "plt.show()"
   ]
  },
  {
   "cell_type": "markdown",
   "id": "eccc051d",
   "metadata": {},
   "source": [
    "## Вывод\n",
    "В данном примере, нормализация признаков лишь замедляет процесс обучения. Стандартизация не изменяет процесс обучения"
   ]
  },
  {
   "cell_type": "markdown",
   "id": "fbeaa021",
   "metadata": {
    "id": "osNM_LLkiqu6"
   },
   "source": [
    "2. Модифицировать решение первого задания путем добавления $L_{2}$-регуляризации (в функцию, считающую MSE, нужно добавить норму вектора весов) и сравнить результаты."
   ]
  },
  {
   "cell_type": "code",
   "execution_count": 20,
   "id": "6aac6af9",
   "metadata": {},
   "outputs": [],
   "source": [
    "def stochastic_grad_fit_reg_wL(X, y, qty_in_batch=None, alpha=1e-3, iterations=None, lambda_=1e-8, L=2):\n",
    "    '''\n",
    "    Вариант стахостического градиентного спуска из методички к уроку\n",
    "    '''\n",
    "    n = X.shape[1]\n",
    "    if qty_in_batch == None:\n",
    "        qty_in_batch = n\n",
    "    W = np.zeros(n)\n",
    "    W_list = []\n",
    "    mse_list = []\n",
    "    train_ind = np.random.randint(X.shape[0])\n",
    "    for i in range(iterations):\n",
    "        W_list.append(W)\n",
    "        y_pred = np.dot(X, W)\n",
    "        mse = calc_mse(y_pred, y)\n",
    "        mse_list.append(mse)\n",
    "        train_ind = np.random.randint(X.shape[0])\n",
    "\n",
    "        X_tmp = X[train_ind, :]\n",
    "        y_tmp = y[train_ind]\n",
    "\n",
    "        W -= alpha * (2 * np.dot((np.dot(X_tmp, W) - y_tmp), X_tmp) / n + lambda_ * np.linalg.norm(W, ord=L))\n",
    "        if i % (iterations / 5) == 0:\n",
    "            print(i, '\\t', W, mse)\n",
    "    return W, W_list, mse_list"
   ]
  },
  {
   "cell_type": "code",
   "execution_count": 21,
   "id": "7f7a7ea5",
   "metadata": {
    "scrolled": true
   },
   "outputs": [
    {
     "name": "stdout",
     "output_type": "stream",
     "text": [
      "0 \t [19.29386178  4.72946339 24.25508589] 8729.992415032719\n",
      "20 \t [74.42795455  0.5249115  17.52797227] 876.483168677091\n",
      "40 \t [87.42068908 13.32413757 17.08208802] 36.45975039573906\n",
      "60 \t [88.55691189 15.00733692 15.93323873] 5.254522369464494\n",
      "80 \t [89.85998478 15.36193268 14.85936963] 0.1875896894953388\n"
     ]
    }
   ],
   "source": [
    "W_s4, W_list_s4, mse_list_s4 = stochastic_grad_fit_reg_wL(data, target, \n",
    "                                                        alpha=0.1, \n",
    "                                                        qty_in_batch=3,\n",
    "                                                        iterations=iterations,\n",
    "                                                        lambda_=1e-4\n",
    "                                                       )"
   ]
  },
  {
   "cell_type": "code",
   "execution_count": 22,
   "id": "ab6f3454",
   "metadata": {
    "scrolled": false
   },
   "outputs": [
    {
     "data": {
      "image/png": "[encoded data removed]",
      "text/plain": [
       "<Figure size 864x432 with 1 Axes>"
      ]
     },
     "metadata": {
      "needs_background": "light"
     },
     "output_type": "display_data"
    }
   ],
   "source": [
    "plt.figure(figsize = (12, 6))\n",
    "plt.scatter(range(iterations), mse_list_s3, label='Стахостический градиентный спуск (3 вариант)')\n",
    "plt.scatter(range(iterations), mse_list_s4, label='3 вариант с регуляризацией L2')\n",
    "plt.legend()\n",
    "plt.show()"
   ]
  },
  {
   "cell_type": "markdown",
   "id": "84912dad",
   "metadata": {},
   "source": [
    "3. [опция]. Модернизировать решение задания 2, заменив L2 регуляризацию на L1 регуляризацию."
   ]
  },
  {
   "cell_type": "code",
   "execution_count": 23,
   "id": "5dfa1ffd",
   "metadata": {
    "scrolled": true
   },
   "outputs": [
    {
     "name": "stdout",
     "output_type": "stream",
     "text": [
      "0 \t [ 1.19196861  0.15584692 -3.25185036] 8729.992415032719\n",
      "20 \t [75.99966754 18.1051055  18.26235223] 224.62155634366482\n",
      "40 \t [87.2342903  13.05895414 14.02507474] 23.63528783656298\n",
      "60 \t [89.75407667 14.93130197 13.99079299] 1.352860396463203\n",
      "80 \t [89.9193243  15.34205325 14.2305049 ] 0.24701105075126692\n"
     ]
    }
   ],
   "source": [
    "W_s5, W_list_s5, mse_list_s5 = stochastic_grad_fit_reg_wL(data, target, \n",
    "                                                        alpha=0.1, \n",
    "                                                        qty_in_batch=3,\n",
    "                                                        iterations=iterations,\n",
    "                                                        lambda_=1e-4,\n",
    "                                                        L=1\n",
    "                                                       )"
   ]
  },
  {
   "cell_type": "code",
   "execution_count": 24,
   "id": "5f816f03",
   "metadata": {
    "scrolled": false
   },
   "outputs": [
    {
     "data": {
      "image/png": "[encoded data removed]",
      "text/plain": [
       "<Figure size 864x432 with 1 Axes>"
      ]
     },
     "metadata": {
      "needs_background": "light"
     },
     "output_type": "display_data"
    }
   ],
   "source": [
    "plt.figure(figsize = (12, 6))\n",
    "plt.scatter(range(iterations), mse_list_s3, label='Стахостический градиентный спуск (3 вариант)')\n",
    "plt.scatter(range(iterations), mse_list_s4, label='3 вариант с регуляризацией L2')\n",
    "plt.scatter(range(iterations), mse_list_s5, label='3 вариант с регуляризацией L1')\n",
    "plt.legend()\n",
    "plt.show()"
   ]
  },
  {
   "cell_type": "markdown",
   "id": "6d2e8d74",
   "metadata": {},
   "source": [
    "## Вывод:\n",
    "Для данного примера $L_1$ регуляризация немного ускоряет процесс обучения, но, кажется, что это незначительное изменение, которым можно принебречь. Рассчитаем коэффициент детерминации $(R^2)$ для всех получившихся моделей."
   ]
  },
  {
   "cell_type": "code",
   "execution_count": 25,
   "id": "5d7eb6e3",
   "metadata": {},
   "outputs": [],
   "source": [
    "def my_R_2(X, W, y):\n",
    "    return 1 - ((np.dot(X, W) - y) ** 2).sum() / ((y - y.mean()) ** 2).sum()"
   ]
  },
  {
   "cell_type": "code",
   "execution_count": 26,
   "id": "968ac2d6",
   "metadata": {},
   "outputs": [
    {
     "name": "stdout",
     "output_type": "stream",
     "text": [
      "Классический градиентный спуск:  1.0\n",
      "Стахостический градиентный спуск (1):  0.9944777755530939\n",
      "Стахостический градиентный спуск (2):  0.999999630182628\n",
      "Стахостический градиентный спуск (3):  0.9999993082326681\n",
      "Стахостический градиентный спуск (3) с Нормализацией:  0.9999993169988068\n",
      "Стахостический градиентный спуск (3) с Стандартизацией:  0.9999966276903283\n"
     ]
    }
   ],
   "source": [
    "print('Классический градиентный спуск: ', (my_R_2(data, W, target)))\n",
    "print('Стахостический градиентный спуск (1): ', (my_R_2(data, W_s, target)))\n",
    "print('Стахостический градиентный спуск (2): ', (my_R_2(data, W_s2, target)))\n",
    "print('Стахостический градиентный спуск (3): ', (my_R_2(data, W_s3, target)))\n",
    "print('Стахостический градиентный спуск (3) с Нормализацией: ', (my_R_2(data, W_s4, target)))\n",
    "print('Стахостический градиентный спуск (3) с Стандартизацией: ', (my_R_2(data, W_s5, target)))"
   ]
  }
 ],
 "metadata": {
  "kernelspec": {
   "display_name": "Python 3 (ipykernel)",
   "language": "python",
   "name": "python3"
  },
  "language_info": {
   "codemirror_mode": {
    "name": "ipython",
    "version": 3
   },
   "file_extension": ".py",
   "mimetype": "text/x-python",
   "name": "python",
   "nbconvert_exporter": "python",
   "pygments_lexer": "ipython3",
   "version": "3.9.6"
  }
 },
 "nbformat": 4,
 "nbformat_minor": 5
}
