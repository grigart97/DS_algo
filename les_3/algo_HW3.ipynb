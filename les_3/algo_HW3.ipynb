{
 "cells": [
  {
   "cell_type": "markdown",
   "id": "a2e37699",
   "metadata": {},
   "source": [
    "# Домашнее задание 3"
   ]
  },
  {
   "cell_type": "code",
   "execution_count": 1,
   "id": "1ab1f720",
   "metadata": {},
   "outputs": [],
   "source": [
    "import numpy as np\n",
    "import pandas as pd\n",
    "import matplotlib.pyplot as plt\n",
    "from matplotlib.colors import ListedColormap\n",
    "from sklearn import datasets"
   ]
  },
  {
   "cell_type": "code",
   "execution_count": 2,
   "id": "80f8156c",
   "metadata": {},
   "outputs": [],
   "source": [
    "X, y = datasets.make_classification(n_samples=700, \n",
    "                                    n_features=4, \n",
    "                                    n_informative=2, \n",
    "                                    n_redundant=1, \n",
    "                                    n_classes=2, \n",
    "                                    random_state=42)"
   ]
  },
  {
   "cell_type": "code",
   "execution_count": 3,
   "id": "77d53676",
   "metadata": {},
   "outputs": [],
   "source": [
    "def my_tt_split(X, y, cut=0.7, random_state=42):\n",
    "    np.random.seed(random_state)\n",
    "    # перемешивание датасета\n",
    "    shuffle_index = np.random.permutation(X.shape[0])\n",
    "    X_shuffled, y_shuffled = X[shuffle_index], y[shuffle_index]\n",
    "\n",
    "    # разбивка на обучающую и тестовую выборки\n",
    "    index_cut = int(X.shape[0] * cut)\n",
    "\n",
    "    return X_shuffled[:index_cut], X_shuffled[index_cut:], y_shuffled[:index_cut], y_shuffled[index_cut:]"
   ]
  },
  {
   "cell_type": "code",
   "execution_count": 4,
   "id": "229e8abb",
   "metadata": {},
   "outputs": [
    {
     "data": {
      "text/plain": [
       "((489, 4), (211, 4), (489,), (211,))"
      ]
     },
     "execution_count": 4,
     "metadata": {},
     "output_type": "execute_result"
    }
   ],
   "source": [
    "X_train, X_test, y_train, y_test = my_tt_split(X, y, cut=0.7)\n",
    "X_train.shape, X_test.shape, y_train.shape, y_test.shape"
   ]
  },
  {
   "cell_type": "markdown",
   "id": "016cb818",
   "metadata": {},
   "source": [
    "## 1*. Измените функцию calc_logloss так, чтобы нули по возможности не попадали в np.log."
   ]
  },
  {
   "cell_type": "code",
   "execution_count": 5,
   "id": "e65cda9a",
   "metadata": {},
   "outputs": [],
   "source": [
    "def sigmoid(X, W):\n",
    "    return 1 / (1 + np.exp(-np.dot(X, W)))"
   ]
  },
  {
   "cell_type": "code",
   "execution_count": 6,
   "id": "301b2b6d",
   "metadata": {},
   "outputs": [],
   "source": [
    "def calc_logloss(y, y_pred):\n",
    "    err = - np.mean(y * np.log(y_pred) + (1.0 - y) * np.log(1.0 - y_pred))\n",
    "    return err"
   ]
  },
  {
   "cell_type": "code",
   "execution_count": 7,
   "id": "20d2b092",
   "metadata": {},
   "outputs": [],
   "source": [
    "def my_calc_logloss1(y, y_pred, autocorrect=1e-8):\n",
    "    \"\"\"\n",
    "    Самый простой и очевидный вариант - заменить 0 и 1 на очень близкие значения\n",
    "    \"\"\"\n",
    "    y_pred[y_pred == 0] =  autocorrect\n",
    "    y_pred[y_pred == 1] =  1 - autocorrect\n",
    "    # Как можно это сделать за один проход???\n",
    "    err = - np.mean(y * np.log(y_pred) + (1.0 - y) * np.log(1.0 - y_pred))\n",
    "    return err"
   ]
  },
  {
   "cell_type": "code",
   "execution_count": 8,
   "id": "760d09e0",
   "metadata": {},
   "outputs": [],
   "source": [
    "def my_calc_logloss2(y, y_pred, autocorrect=1e-8):\n",
    "    \"\"\"\n",
    "    Второй простой и очевидный вариант - прибавить/вычесть у y_pred очень маленькие значения\n",
    "    \"\"\"\n",
    "    err = - np.mean(y * np.log(y_pred + autocorrect) + (1.0 - y) * np.log(1.0 - y_pred - autocorrect))\n",
    "    return err"
   ]
  },
  {
   "cell_type": "code",
   "execution_count": 9,
   "id": "aad59ce5",
   "metadata": {},
   "outputs": [],
   "source": [
    "def my_calc_logloss3(y, y_pred):\n",
    "    \"\"\"\n",
    "    Возвращаемся к умножению, чтобы не было логарифмов.\n",
    "    не оптимальный вариант, но поставленную задачу решает.\n",
    "    \"\"\"\n",
    "    err = - np.prod(y_pred ** (y == 1) * (1 - y_pred) ** (y == 1))\n",
    "    return err"
   ]
  },
  {
   "cell_type": "code",
   "execution_count": 10,
   "id": "2c9fd4f3",
   "metadata": {},
   "outputs": [],
   "source": [
    "def my_calc_logloss4(y, y_pred):\n",
    "    \"\"\"\n",
    "    Ещё вариант - заменить все бесконечности. На максимальное значение\n",
    "    \"\"\"\n",
    "    y_pred_log1, y_pred_log2 = np.log(y_pred), np.log(1 - y_pred)\n",
    "    y_pred_log1[y_pred_log1 == np.inf] = y_pred_log1[y_pred_log1 != np.inf].max()\n",
    "    y_pred_log2[y_pred_log2 == np.inf] = y_pred_log2[y_pred_log2 != np.inf].max()\n",
    "    err = - np.mean(y * np.log(y_pred) + (1.0 - y) * np.log(1.0 - y_pred))\n",
    "    return err"
   ]
  },
  {
   "cell_type": "code",
   "execution_count": 11,
   "id": "04823f6e",
   "metadata": {},
   "outputs": [],
   "source": [
    "def eval_model(X, y, alpha=1e-3, iterations=10000, target_diff=1e-7, random_state=42):\n",
    "    np.random.seed(random_state)\n",
    "    \n",
    "    n = X.shape[0]\n",
    "    W = np.random.randn(X.shape[1])\n",
    "    y_pred = sigmoid(X, W)\n",
    "    errs_hist = []\n",
    "    \n",
    "    for i in range(iterations):\n",
    "        W -= alpha * 2 / n * np.dot((y_pred - y), X)\n",
    "        y_pred = sigmoid(X, W)\n",
    "        err = my_calc_logloss1(y, y_pred)\n",
    "        errs_hist.append(err)\n",
    "#         if i % (iterations / 10) == 0:\n",
    "#             print(i, '\\t', err)\n",
    "#         if i > 2 and target_diff > np.abs(err - errs_hist[-2]):\n",
    "#             return W, errs_hist\n",
    "#     return W, errs_hist\n",
    "    return W, err"
   ]
  },
  {
   "cell_type": "code",
   "execution_count": 12,
   "id": "6a81d8cc",
   "metadata": {},
   "outputs": [],
   "source": [
    "# W, err_list = eval_model(X, y, alpha=1e-2, iterations=1000, target_diff=1e-9)\n",
    "# plt.plot(range(len(err_list)), err_list, label='my_calc_logloss1')\n",
    "# plt.show()"
   ]
  },
  {
   "cell_type": "markdown",
   "id": "d0e50bb8",
   "metadata": {},
   "source": [
    "## 2. Подберите аргументы функции eval_model для логистической регрессии таким образом, чтобы log loss был минимальным."
   ]
  },
  {
   "cell_type": "code",
   "execution_count": 13,
   "id": "2d6f4cc5",
   "metadata": {},
   "outputs": [],
   "source": [
    "def find_min_logloss(X, y, iterations_list, alpha_list):\n",
    "    result = np.ones(3)\n",
    "    \n",
    "    for alpha in alpha_list:\n",
    "        for iters in iterations_list:\n",
    "            result = np.vstack((result, [alpha, iters, eval_model(X, y, alpha=alpha, iterations=iters)[1]]))\n",
    "    best_pair = result[result[:, 2] == result[:, 2].min()]\n",
    "    return best_pair, result[1:]"
   ]
  },
  {
   "cell_type": "code",
   "execution_count": 14,
   "id": "3df09a80",
   "metadata": {},
   "outputs": [
    {
     "name": "stdout",
     "output_type": "stream",
     "text": [
      "[[1.00000000e-02 1.00000000e+05 3.83582442e-01]\n",
      " [1.00000000e-02 1.00000000e+06 3.83582442e-01]]\n",
      "[[1.00000000e-02 1.00000000e+03 3.84438917e-01]\n",
      " [1.00000000e-02 1.00000000e+04 3.83582442e-01]\n",
      " [1.00000000e-02 1.00000000e+05 3.83582442e-01]\n",
      " [1.00000000e-02 1.00000000e+06 3.83582442e-01]\n",
      " [1.00000000e-03 1.00000000e+03 4.18267427e-01]\n",
      " [1.00000000e-03 1.00000000e+04 3.84442034e-01]\n",
      " [1.00000000e-03 1.00000000e+05 3.83582442e-01]\n",
      " [1.00000000e-03 1.00000000e+06 3.83582442e-01]]\n"
     ]
    }
   ],
   "source": [
    "iters_list = [10 ** i for i in range(3, 7)] # Как это сделать с помощью np?\n",
    "alpha_list = [10 ** (-i) for i in range(2, 4)]\n",
    "b_p, rst = find_min_logloss(X, y, iters_list, alpha_list)\n",
    "print(b_p)\n",
    "print(rst)"
   ]
  },
  {
   "cell_type": "markdown",
   "id": "ee86f454",
   "metadata": {},
   "source": [
    "## 3. Создайте функцию calc_pred_proba, возвращающую предсказанную вероятность класса 1 (на вход подаются W, который уже посчитан функцией eval_model и X, на выходе - массив y_pred_proba)."
   ]
  },
  {
   "cell_type": "code",
   "execution_count": 15,
   "id": "80e79ded",
   "metadata": {},
   "outputs": [],
   "source": [
    "def calc_pred_proba(X, W): # зачем? (:\n",
    "    return sigmoid(X, W)"
   ]
  },
  {
   "cell_type": "code",
   "execution_count": 16,
   "id": "ed6de995",
   "metadata": {},
   "outputs": [],
   "source": [
    "W_finded = eval_model(X_train, y_train, alpha=1e-3, iterations=int(1e+6))[0]\n",
    "y_pred_proba = calc_pred_proba(X_train, W_finded)"
   ]
  },
  {
   "cell_type": "markdown",
   "id": "ba1b3156",
   "metadata": {},
   "source": [
    "## 4. Создайте функцию calc_pred, возвращающую предсказанный класс (на вход подаются W, который уже посчитан функцией eval_model и X, на выходе - массив y_pred)."
   ]
  },
  {
   "cell_type": "code",
   "execution_count": 17,
   "id": "d1455a5b",
   "metadata": {},
   "outputs": [],
   "source": [
    "def calc_pred(X, W, cut=0.5):\n",
    "    y_pred_proba = sigmoid(X, W)\n",
    "    return np.where(y_pred_proba >= cut, 1, 0)"
   ]
  },
  {
   "cell_type": "code",
   "execution_count": 18,
   "id": "873696e0",
   "metadata": {},
   "outputs": [],
   "source": [
    "y_pred = calc_pred(X_train, W_finded)\n",
    "y_test_pred = calc_pred(X_test, W_finded)"
   ]
  },
  {
   "cell_type": "markdown",
   "id": "0470cdca",
   "metadata": {},
   "source": [
    "## 5. Посчитайте Accuracy, матрицу ошибок, точность и полноту, а также F1 score."
   ]
  },
  {
   "cell_type": "code",
   "execution_count": 19,
   "id": "fec9d28c",
   "metadata": {},
   "outputs": [],
   "source": [
    "def my_accuracy(y, y_pred):\n",
    "    return (y == y_pred).mean()\n",
    "\n",
    "def my_precision(y, y_pred):\n",
    "    TP = y[y == y_pred].sum()\n",
    "    FP = y[y != y_pred].sum()\n",
    "    return TP / (TP + FP)\n",
    "    \n",
    "def my_recall(y, y_pred):\n",
    "    TP = y[y == y_pred].sum()\n",
    "    FN = y[y != y_pred].shape[0] - y[y != y_pred].sum()\n",
    "    return TP / (TP + FN)\n",
    "\n",
    "def my_f1(y, y_pred):\n",
    "    pre = my_precision(y, y_pred)\n",
    "    rec = my_recall(y, y_pred)\n",
    "    return 2 * pre * rec / (pre + rec)"
   ]
  },
  {
   "cell_type": "code",
   "execution_count": 20,
   "id": "7d4fa65e",
   "metadata": {},
   "outputs": [
    {
     "name": "stdout",
     "output_type": "stream",
     "text": [
      "accuracy train:\t 0.8404907975460123 \n",
      "accuracy test:\t 0.8199052132701422 \n",
      " \n",
      "precision train:\t 0.8461538461538461 \n",
      " precision test:\t 0.8942307692307693 \n",
      " \n",
      "recall train:\t 0.8393574297188755 \n",
      "reacll test:\t 0.775 \n",
      " \n",
      "f1 train:\t 0.842741935483871 \n",
      " f1 test:\t 0.8303571428571429\n"
     ]
    }
   ],
   "source": [
    "print('accuracy train:\\t', my_accuracy(y_train, y_pred), '\\n'\n",
    "      'accuracy test:\\t', my_accuracy(y_test, y_test_pred),\n",
    "      '\\n','\\n'\n",
    "      'precision train:\\t', my_precision(y_train, y_pred), '\\n',\n",
    "     'precision test:\\t', my_precision(y_test, y_test_pred),\n",
    "      '\\n', '\\n'\n",
    "      'recall train:\\t', my_recall(y_train, y_pred), '\\n'\n",
    "     'reacll test:\\t', my_recall(y_test, y_test_pred),\n",
    "      '\\n', '\\n'\n",
    "      'f1 train:\\t', my_f1(y_train, y_pred), '\\n',\n",
    "     'f1 test:\\t', my_f1(y_test, y_test_pred))"
   ]
  },
  {
   "cell_type": "markdown",
   "id": "19159c51",
   "metadata": {},
   "source": [
    "## 6. Могла ли модель переобучиться? Почему?"
   ]
  },
  {
   "cell_type": "markdown",
   "id": "d6cc3962",
   "metadata": {},
   "source": [
    "Разумеется могла. Это может произойти:\n",
    "* если в нашей выборке преобладает определённый класс, что может привести к переобучению на этом конкретном классе.\n",
    "* если при разбиении на `train & test` в `train` попадётся случай, описанный стройкой выше."
   ]
  },
  {
   "cell_type": "markdown",
   "id": "25efdfec",
   "metadata": {},
   "source": [
    "## 7*. Создайте функции eval_model_l1 и eval_model_l2 с применением L1 и L2 регуляризаций соответственно."
   ]
  },
  {
   "cell_type": "code",
   "execution_count": 21,
   "id": "39fca8af",
   "metadata": {},
   "outputs": [],
   "source": [
    "def eval_model_L(X, y, alpha=1e-3, iterations=10000, target_diff=1e-7, lambda_=1e-5, L=2, random_state=42):\n",
    "    np.random.seed(random_state)\n",
    "    \n",
    "    n = X.shape[0]\n",
    "    W = np.random.randn(X.shape[1])\n",
    "    y_pred = sigmoid(X, W)\n",
    "    errs_hist = []\n",
    "    \n",
    "    for i in range(iterations):\n",
    "        W -= alpha * 2 / n * np.dot((y_pred - y), X) + lambda_ * np.linalg.norm(W, ord=L)\n",
    "        y_pred = sigmoid(X, W)\n",
    "        err = my_calc_logloss1(y, y_pred)\n",
    "        errs_hist.append(err)\n",
    "        if i % (iterations / 10) == 0:\n",
    "            print(i, '\\t', err)\n",
    "        if i > 2 and target_diff > np.abs(err - errs_hist[-2]):\n",
    "            return W, errs_hist\n",
    "    return W, errs_hist\n",
    "#     return W, err"
   ]
  },
  {
   "cell_type": "code",
   "execution_count": 22,
   "id": "5c85deb5",
   "metadata": {},
   "outputs": [
    {
     "name": "stdout",
     "output_type": "stream",
     "text": [
      "0 \t 0.44247076413381203\n",
      "1000 \t 0.4182498069355089\n",
      "2000 \t 0.40480874863202304\n",
      "3000 \t 0.39695083412839494\n",
      "4000 \t 0.3921940956677999\n",
      "5000 \t 0.38923783475855245\n",
      "6000 \t 0.38735985703102965\n",
      "7000 \t 0.38614366414107093\n",
      "8000 \t 0.38534227914081953\n",
      "9000 \t 0.3848058782192266\n"
     ]
    }
   ],
   "source": [
    "W_l1, errs_l1 = eval_model_L(X, y, lambda_=1e-10, L=1)"
   ]
  },
  {
   "cell_type": "code",
   "execution_count": 23,
   "id": "90fb33be",
   "metadata": {},
   "outputs": [
    {
     "name": "stdout",
     "output_type": "stream",
     "text": [
      "0 \t 0.44247076414118275\n",
      "1000 \t 0.4182498131081535\n",
      "2000 \t 0.40480875775182257\n",
      "3000 \t 0.3969508437003082\n",
      "4000 \t 0.39219410434161933\n",
      "5000 \t 0.38923784199925365\n",
      "6000 \t 0.3873598627637537\n",
      "7000 \t 0.38614366850833026\n",
      "8000 \t 0.3853422823632312\n",
      "9000 \t 0.3848058805250436\n"
     ]
    }
   ],
   "source": [
    "W_l2, errs_l2 = eval_model_L(X, y, lambda_=1e-10, L=2)"
   ]
  },
  {
   "cell_type": "code",
   "execution_count": 24,
   "id": "6de05a90",
   "metadata": {},
   "outputs": [
    {
     "name": "stdout",
     "output_type": "stream",
     "text": [
      "0 \t 0.4424707641530993\n",
      "1000 \t 0.4182498228253125\n",
      "2000 \t 0.4048087719348204\n",
      "3000 \t 0.39695085853265516\n",
      "4000 \t 0.3921941178043891\n",
      "5000 \t 0.38923785329195537\n",
      "6000 \t 0.38735987176399417\n",
      "7000 \t 0.38614367541653566\n",
      "8000 \t 0.38534228750054944\n",
      "9000 \t 0.3848058842299183\n"
     ]
    }
   ],
   "source": [
    "W_, errs_ = eval_model_L(X, y, lambda_=0)"
   ]
  },
  {
   "cell_type": "code",
   "execution_count": 25,
   "id": "9c041d83",
   "metadata": {},
   "outputs": [
    {
     "data": {
      "image/png": "[encoded data removed]",
      "text/plain": [
       "<Figure size 864x432 with 1 Axes>"
      ]
     },
     "metadata": {
      "needs_background": "light"
     },
     "output_type": "display_data"
    }
   ],
   "source": [
    "plt.figure(figsize = (12, 6))\n",
    "plt.plot(range(len(errs_)), errs_, label='Without L')\n",
    "plt.plot(range(len(errs_l1)), errs_l1, label='with L1')\n",
    "plt.plot(range(len(errs_l2)), errs_l2, label='with L1')\n",
    "plt.legend()\n",
    "plt.show()"
   ]
  },
  {
   "cell_type": "markdown",
   "id": "c982a920",
   "metadata": {},
   "source": [
    "В данном случае, разница между не наблюдается."
   ]
  }
 ],
 "metadata": {
  "kernelspec": {
   "display_name": "Python 3 (ipykernel)",
   "language": "python",
   "name": "python3"
  },
  "language_info": {
   "codemirror_mode": {
    "name": "ipython",
    "version": 3
   },
   "file_extension": ".py",
   "mimetype": "text/x-python",
   "name": "python",
   "nbconvert_exporter": "python",
   "pygments_lexer": "ipython3",
   "version": "3.9.6"
  }
 },
 "nbformat": 4,
 "nbformat_minor": 5
}
