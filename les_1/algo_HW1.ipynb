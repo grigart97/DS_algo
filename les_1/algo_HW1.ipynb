{
 "cells": [
  {
   "cell_type": "markdown",
   "id": "8a60cb5c",
   "metadata": {},
   "source": [
    "# Домашнее задание 1"
   ]
  },
  {
   "cell_type": "code",
   "execution_count": 1,
   "id": "c30469c2",
   "metadata": {
    "colab": {},
    "colab_type": "code",
    "id": "ak8b3KV45kVW"
   },
   "outputs": [],
   "source": [
    "import numpy as np"
   ]
  },
  {
   "cell_type": "code",
   "execution_count": 2,
   "id": "81c9d5a9",
   "metadata": {
    "colab": {},
    "colab_type": "code",
    "id": "VsNrKi1Q6Wmh"
   },
   "outputs": [],
   "source": [
    "y = [45, 55, 50, 59, 65, 35, 75, 80, 50, 60]\n",
    "X = np.array([[1, 1, 1, 1, 1, 1, 1, 1,  1, 1],\n",
    "              [1, 1, 2, 1, 3, 0, 5, 10, 1, 2]])"
   ]
  },
  {
   "cell_type": "code",
   "execution_count": 3,
   "id": "a752f935",
   "metadata": {},
   "outputs": [],
   "source": [
    "def calc_mse(y_pred, y):\n",
    "    return np.mean((y - y_pred) ** 2)"
   ]
  },
  {
   "cell_type": "markdown",
   "id": "4c83b9ba",
   "metadata": {
    "colab_type": "text",
    "id": "huXrhXQsZTMt"
   },
   "source": [
    "1. Подберите скорость обучения (alpha) и количество итераций:"
   ]
  },
  {
   "cell_type": "code",
   "execution_count": 4,
   "id": "3757567b",
   "metadata": {},
   "outputs": [],
   "source": [
    "n = X.shape[1]\n",
    "alpha = 1e-2"
   ]
  },
  {
   "cell_type": "markdown",
   "id": "7606814e",
   "metadata": {},
   "source": [
    "Для того, чтобы найти лучшую скорость обучения и количество итераций, создадим цикл, в котором и будем определять необходимое количество итераций для данной скорости обучения (_alpha_). В качестве критерия остановки будем использовать целевую разницу между предыдущим и текущим значением `mse`."
   ]
  },
  {
   "cell_type": "code",
   "execution_count": 5,
   "id": "c7495959",
   "metadata": {
    "colab": {
     "base_uri": "https://localhost:8080/",
     "height": 185
    },
    "colab_type": "code",
    "id": "IDB22MQKMYaJ",
    "outputId": "4c03219e-a57c-4583-f439-6699fd0619bb",
    "scrolled": true
   },
   "outputs": [
    {
     "name": "stdout",
     "output_type": "stream",
     "text": [
      "0 [2.102 3.9  ] 3173.15 1087.9666360000006\n",
      "100 [31.88770806  6.74418155] 175.19445858001853 2.6740020558778497\n",
      "200 [41.83683774  4.90699865] 61.9177717428135 0.3305917140802208\n",
      "300 [45.33508261  4.26102097] 47.913169919666785 0.040871651978825696\n",
      "400 [46.56511152  4.03388672] 46.181755648107604 0.005053036311359449\n",
      "500 [46.99760587  3.95402334] 45.96769776787538 0.0006247160251007244\n",
      "600 [47.14967657  3.92594232] 45.941233404700036 7.72347729096623e-05\n",
      "700 [47.20314662  3.91606866] 45.93796156758051 9.548674803738777e-06\n",
      "800 [47.2219474   3.91259695] 45.93755706443538 1.1805199164882652e-06\n",
      "900 [47.228558    3.91137626] 45.937507054979434 1.4594981934124007e-07\n",
      "920 [47.22920369  3.91125703] 45.93750474242528 9.810889878281159e-08\n"
     ]
    }
   ],
   "source": [
    "W = np.array([1, 0.5])\n",
    "target_diff = 1e-7\n",
    "diff = np.inf\n",
    "i = 0\n",
    "while target_diff < diff:\n",
    "    y_pred = np.dot(W, X)\n",
    "    err = calc_mse(y, y_pred)\n",
    "    for ii in range(W.shape[0]):\n",
    "        W[ii] -= alpha * (1/n * 2 * np.sum(X[ii] * (y_pred - y)))\n",
    "    new_err = calc_mse(y, np.dot(W, X))\n",
    "    diff = err - new_err\n",
    "    if i % 100 == 0:\n",
    "        print(i, W, err, diff)\n",
    "    i += 1\n",
    "print(i, W, err, diff)"
   ]
  },
  {
   "cell_type": "markdown",
   "id": "bfa000ab",
   "metadata": {},
   "source": [
    "Таким образом подобраны оптимальные значения c заданной точностью `mse`:\n",
    "* скорость обучения `alpha` = 1e-2;\n",
    "* количество итераций - 920. Округлим в большую сторону - 1000."
   ]
  },
  {
   "cell_type": "code",
   "execution_count": 6,
   "id": "1233e755",
   "metadata": {},
   "outputs": [
    {
     "name": "stdout",
     "output_type": "stream",
     "text": [
      "0 [2.102 3.9  ] 3173.15\n",
      "100 [31.88770806  6.74418155] 175.19445858001853\n",
      "200 [41.83683774  4.90699865] 61.9177717428135\n",
      "300 [45.33508261  4.26102097] 47.913169919666785\n",
      "400 [46.56511152  4.03388672] 46.181755648107604\n",
      "500 [46.99760587  3.95402334] 45.96769776787538\n",
      "600 [47.14967657  3.92594232] 45.941233404700036\n",
      "700 [47.20314662  3.91606866] 45.93796156758051\n",
      "800 [47.2219474   3.91259695] 45.93755706443538\n",
      "900 [47.228558    3.91137626] 45.937507054979434\n",
      "999 [47.23086913  3.91094949] 45.93750089064509\n"
     ]
    }
   ],
   "source": [
    "# подставим найденные значения в заданный цикл\n",
    "W = np.array([1, 0.5])\n",
    "for i in range(1000):\n",
    "    y_pred = np.dot(W, X)\n",
    "    err = calc_mse(y, y_pred)\n",
    "    for ii in range(W.shape[0]):\n",
    "        W[ii] -= alpha * (1/n * 2 * np.sum(X[ii] * (y_pred - y)))\n",
    "    if i % 100 == 0:\n",
    "        print(i, W, err)\n",
    "print(i, W, err)"
   ]
  },
  {
   "cell_type": "markdown",
   "id": "9218628f",
   "metadata": {
    "colab_type": "text",
    "id": "5Qu1o4JhZYwI"
   },
   "source": [
    "*2. В этом коде мы избавляемся от итераций по весам, но тут есть ошибка, исправьте ее:"
   ]
  },
  {
   "cell_type": "code",
   "execution_count": 7,
   "id": "62852055",
   "metadata": {
    "colab": {
     "base_uri": "https://localhost:8080/",
     "height": 185
    },
    "colab_type": "code",
    "id": "WZZzDCQLY4pA",
    "outputId": "28f58ade-72f2-4381-809d-2417752d56e4"
   },
   "outputs": [
    {
     "name": "stdout",
     "output_type": "stream",
     "text": [
      "0 [2.102 3.9  ] 3173.15\n",
      "100 [31.88770806  6.74418155] 175.19445858001842\n",
      "200 [41.83683774  4.90699865] 61.9177717428135\n",
      "300 [45.33508261  4.26102097] 47.913169919666785\n",
      "400 [46.56511152  4.03388672] 46.181755648107604\n",
      "500 [46.99760587  3.95402334] 45.96769776787538\n",
      "600 [47.14967657  3.92594232] 45.941233404700036\n",
      "700 [47.20314662  3.91606866] 45.93796156758051\n",
      "800 [47.2219474   3.91259695] 45.93755706443538\n",
      "900 [47.228558    3.91137626] 45.937507054979434\n"
     ]
    }
   ],
   "source": [
    "W = np.array([1, 0.5])\n",
    "for i in range(1000):\n",
    "    y_pred = np.dot(W, X)\n",
    "    err = calc_mse(y, y_pred)\n",
    "    '''for ii in range(W.shape[0]):\n",
    "    W[ii] -= alpha * (1/n * 2 * np.sum(X[ii] * (y_pred - y)))'''\n",
    "    # W -= (alpha * (1/n * 2 * np.sum(X * (y_pred - y))))\n",
    "    W -= alpha * (1/n * 2 * X.dot(y_pred - y))\n",
    "    if i % 100 == 0:\n",
    "        print(i, W, err)"
   ]
  }
 ],
 "metadata": {
  "kernelspec": {
   "display_name": "Python 3 (ipykernel)",
   "language": "python",
   "name": "python3"
  },
  "language_info": {
   "codemirror_mode": {
    "name": "ipython",
    "version": 3
   },
   "file_extension": ".py",
   "mimetype": "text/x-python",
   "name": "python",
   "nbconvert_exporter": "python",
   "pygments_lexer": "ipython3",
   "version": "3.9.6"
  }
 },
 "nbformat": 4,
 "nbformat_minor": 5
}
